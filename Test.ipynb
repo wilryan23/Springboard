{
 "cells": [
  {
   "cell_type": "code",
   "execution_count": 1,
   "id": "south-friday",
   "metadata": {},
   "outputs": [
    {
     "name": "stdout",
     "output_type": "stream",
     "text": [
      "Testing Git Hub\n"
     ]
    }
   ],
   "source": [
    "print('Testing Git Hub')"
   ]
  },
  {
   "cell_type": "code",
   "execution_count": null,
   "id": "demonstrated-promotion",
   "metadata": {},
   "outputs": [],
   "source": []
  }
 ],
 "metadata": {
  "kernelspec": {
   "display_name": "Python 3",
   "language": "python",
   "name": "python3"
  },
  "language_info": {
   "codemirror_mode": {
    "name": "ipython",
    "version": 3
   },
   "file_extension": ".py",
   "mimetype": "text/x-python",
   "name": "python",
   "nbconvert_exporter": "python",
   "pygments_lexer": "ipython3",
   "version": "3.7.3"
  }
 },
 "nbformat": 4,
 "nbformat_minor": 5
}
